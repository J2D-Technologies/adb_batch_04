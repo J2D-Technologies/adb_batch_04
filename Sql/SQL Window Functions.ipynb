{
 "cells": [
  {
   "cell_type": "code",
   "execution_count": 0,
   "metadata": {
    "application/vnd.databricks.v1+cell": {
     "cellMetadata": {},
     "inputWidgets": {},
     "nuid": "31ca02d5-971b-4b1d-8c66-73f47aa98ba6",
     "showTitle": false,
     "tableResultSettingsMap": {},
     "title": ""
    }
   },
   "outputs": [],
   "source": [
    "-- 1. row_number\n",
    "-- 2. rank \n",
    "-- 3. dense_rank\n",
    "-- 4. ntile\n",
    "-- 5. lead\n",
    "-- 6. lag\n",
    "-- 7. percentile rank\n",
    "-- 8. sum()\n",
    "-- 9. avg\n",
    "-- 10. count"
   ]
  },
  {
   "cell_type": "code",
   "execution_count": 0,
   "metadata": {
    "application/vnd.databricks.v1+cell": {
     "cellMetadata": {
      "byteLimit": 2048000,
      "rowLimit": 10000
     },
     "inputWidgets": {},
     "nuid": "6a78be4d-ac41-4302-b60b-7d7ca3202c00",
     "showTitle": false,
     "tableResultSettingsMap": {},
     "title": ""
    }
   },
   "outputs": [],
   "source": [
    "use j2d;"
   ]
  },
  {
   "cell_type": "code",
   "execution_count": 0,
   "metadata": {
    "application/vnd.databricks.v1+cell": {
     "cellMetadata": {
      "byteLimit": 2048000,
      "rowLimit": 10000
     },
     "inputWidgets": {},
     "nuid": "34848186-1585-4f66-b209-ad174b5221a7",
     "showTitle": false,
     "tableResultSettingsMap": {},
     "title": ""
    }
   },
   "outputs": [],
   "source": [
    "CREATE TABLE sales (\n",
    "    id INT,\n",
    "    salesperson STRING,\n",
    "    region STRING,\n",
    "    sales_amount DECIMAL(10, 2),\n",
    "    sales_date DATE\n",
    ");\n",
    "\n",
    "INSERT INTO sales VALUES\n",
    "(1, 'Alice', 'North', 5000.00, '2025-01-01'),\n",
    "(2, 'Bob', 'South', 3000.00, '2025-01-02'),\n",
    "(3, 'Charlie', 'East', 7000.00, '2025-01-03'),\n",
    "(4, 'David', 'West', 2000.00, '2025-01-04'),\n",
    "(5, 'Eve', 'North', 6000.00, '2025-01-05'),\n",
    "(6, 'Frank', 'South', 4000.00, '2025-01-06'),\n",
    "(7, 'Grace', 'East', 8000.00, '2025-01-07'),\n",
    "(8, 'Hank', 'West', 1000.00, '2025-01-08'),\n",
    "(9, 'Ivy', 'North', 9000.00, '2025-01-09'),\n",
    "(10, 'Jack', 'South', 500.00, '2025-01-10');"
   ]
  },
  {
   "cell_type": "code",
   "execution_count": 0,
   "metadata": {
    "application/vnd.databricks.v1+cell": {
     "cellMetadata": {
      "byteLimit": 2048000,
      "rowLimit": 10000
     },
     "inputWidgets": {},
     "nuid": "b358fd91-0735-44b2-baf8-85d3b1e249c4",
     "showTitle": false,
     "tableResultSettingsMap": {},
     "title": ""
    }
   },
   "outputs": [],
   "source": [
    "select * from sales;"
   ]
  },
  {
   "cell_type": "code",
   "execution_count": 0,
   "metadata": {
    "application/vnd.databricks.v1+cell": {
     "cellMetadata": {
      "byteLimit": 2048000,
      "rowLimit": 10000
     },
     "inputWidgets": {},
     "nuid": "139a1057-e100-43ef-ba2d-e0783570ec5a",
     "showTitle": false,
     "tableResultSettingsMap": {},
     "title": ""
    }
   },
   "outputs": [],
   "source": [
    "select region, max(sales_amount) as top_sale_amt_by_region\n",
    "from \n",
    "sales\n",
    "group by region;"
   ]
  },
  {
   "cell_type": "code",
   "execution_count": 0,
   "metadata": {
    "application/vnd.databricks.v1+cell": {
     "cellMetadata": {
      "byteLimit": 2048000,
      "rowLimit": 10000
     },
     "inputWidgets": {},
     "nuid": "9a314c2f-9ed7-4797-b20e-077c218c7066",
     "showTitle": false,
     "tableResultSettingsMap": {},
     "title": ""
    }
   },
   "outputs": [],
   "source": [
    "select *, row_number() over(partition by region order by sales_amount) as rn\n",
    "from sales;"
   ]
  },
  {
   "cell_type": "code",
   "execution_count": 0,
   "metadata": {
    "application/vnd.databricks.v1+cell": {
     "cellMetadata": {
      "byteLimit": 2048000,
      "rowLimit": 10000
     },
     "inputWidgets": {},
     "nuid": "33ce30ca-694f-4679-b6ef-108c9f3c2e67",
     "showTitle": false,
     "tableResultSettingsMap": {},
     "title": ""
    }
   },
   "outputs": [],
   "source": [
    "select *, row_number() over(partition by region order by sales_amount desc) as rn\n",
    "from sales;"
   ]
  },
  {
   "cell_type": "code",
   "execution_count": 0,
   "metadata": {
    "application/vnd.databricks.v1+cell": {
     "cellMetadata": {
      "byteLimit": 2048000,
      "rowLimit": 10000
     },
     "inputWidgets": {},
     "nuid": "3cc9e2f6-c4cf-44e0-b50a-be89cd73bf47",
     "showTitle": false,
     "tableResultSettingsMap": {},
     "title": ""
    }
   },
   "outputs": [],
   "source": [
    "select *, row_number() over(partition by region order by sales_amount desc) as rn\n",
    "from sales\n",
    "where rn = 1;"
   ]
  },
  {
   "cell_type": "code",
   "execution_count": 0,
   "metadata": {
    "application/vnd.databricks.v1+cell": {
     "cellMetadata": {
      "byteLimit": 2048000,
      "rowLimit": 10000
     },
     "inputWidgets": {},
     "nuid": "a2165491-6703-4c43-8207-70f6d19238ac",
     "showTitle": false,
     "tableResultSettingsMap": {},
     "title": ""
    }
   },
   "outputs": [],
   "source": [
    "select `id`, `region`, `salesperson`, `sales_date`, `sales_amount`\n",
    "from\n",
    "(\n",
    "  select *, row_number() over(partition by region order by sales_amount desc) as rn\n",
    "  from sales\n",
    ")\n",
    "where rn = 1;"
   ]
  },
  {
   "cell_type": "code",
   "execution_count": 0,
   "metadata": {
    "application/vnd.databricks.v1+cell": {
     "cellMetadata": {
      "byteLimit": 2048000,
      "rowLimit": 10000
     },
     "inputWidgets": {},
     "nuid": "fa9c1768-4312-4c7d-9a35-19c83bbe0a0d",
     "showTitle": false,
     "tableResultSettingsMap": {},
     "title": ""
    }
   },
   "outputs": [],
   "source": [
    "select `id`, `region`, `salesperson`, `sales_date`, `sales_amount`\n",
    "from\n",
    "(\n",
    "  select *, row_number() over(partition by region order by sales_amount desc) as rn\n",
    "  from sales\n",
    ")\n",
    "where rn = 2;"
   ]
  },
  {
   "cell_type": "code",
   "execution_count": 0,
   "metadata": {
    "application/vnd.databricks.v1+cell": {
     "cellMetadata": {
      "byteLimit": 2048000,
      "rowLimit": 10000
     },
     "inputWidgets": {},
     "nuid": "55cd320f-1a1f-4169-a349-e7d957c34a17",
     "showTitle": false,
     "tableResultSettingsMap": {},
     "title": ""
    }
   },
   "outputs": [],
   "source": [
    "with cte as (\n",
    "  select *, row_number() over(partition by region order by sales_amount desc) as rn\n",
    "  from sales\n",
    ")\n",
    "select  `id`, `region`, `salesperson`, `sales_date`, `sales_amount`\n",
    "from cte \n",
    "where rn = 1;"
   ]
  },
  {
   "cell_type": "code",
   "execution_count": 0,
   "metadata": {
    "application/vnd.databricks.v1+cell": {
     "cellMetadata": {
      "byteLimit": 2048000,
      "rowLimit": 10000
     },
     "inputWidgets": {},
     "nuid": "62b1cde1-6e33-4f96-9841-c10a7f9eaae5",
     "showTitle": false,
     "tableResultSettingsMap": {},
     "title": ""
    }
   },
   "outputs": [],
   "source": [
    "  select *\n",
    "  from sales\n",
    "  qualify row_number() over(partition by region order by sales_amount desc) = 1;"
   ]
  },
  {
   "cell_type": "code",
   "execution_count": 0,
   "metadata": {
    "application/vnd.databricks.v1+cell": {
     "cellMetadata": {
      "byteLimit": 2048000,
      "rowLimit": 10000
     },
     "inputWidgets": {},
     "nuid": "d967f5b4-b369-4359-81b6-fc5c472050a1",
     "showTitle": false,
     "tableResultSettingsMap": {},
     "title": ""
    }
   },
   "outputs": [],
   "source": [
    "INSERT INTO sales VALUES\n",
    "(11, 'Charlie2', 'East', 7000.00, '2025-01-03'),\n",
    "(12, 'Grace2', 'East', 9000.00, '2025-01-07');"
   ]
  },
  {
   "cell_type": "code",
   "execution_count": 0,
   "metadata": {
    "application/vnd.databricks.v1+cell": {
     "cellMetadata": {
      "byteLimit": 2048000,
      "rowLimit": 10000
     },
     "inputWidgets": {},
     "nuid": "61eea8ac-738f-4553-9561-7d02b18b9eb1",
     "showTitle": false,
     "tableResultSettingsMap": {},
     "title": ""
    }
   },
   "outputs": [],
   "source": [
    "select * from sales where region = 'East';"
   ]
  },
  {
   "cell_type": "code",
   "execution_count": 0,
   "metadata": {
    "application/vnd.databricks.v1+cell": {
     "cellMetadata": {
      "byteLimit": 2048000,
      "rowLimit": 10000
     },
     "inputWidgets": {},
     "nuid": "9860276d-5162-4dd0-ab91-b80ec26d8853",
     "showTitle": false,
     "tableResultSettingsMap": {},
     "title": ""
    }
   },
   "outputs": [],
   "source": [
    "  select *, row_number() over(partition by region order by sales_amount desc) as rn\n",
    "  from sales;"
   ]
  },
  {
   "cell_type": "code",
   "execution_count": 0,
   "metadata": {
    "application/vnd.databricks.v1+cell": {
     "cellMetadata": {
      "byteLimit": 2048000,
      "rowLimit": 10000
     },
     "inputWidgets": {},
     "nuid": "43d6a3ca-9712-41b5-971f-8b64c41e34a8",
     "showTitle": false,
     "tableResultSettingsMap": {},
     "title": ""
    }
   },
   "outputs": [],
   "source": [
    "  select *, row_number() over(partition by region order by sales_amount) as rn\n",
    "  from sales;"
   ]
  },
  {
   "cell_type": "code",
   "execution_count": 0,
   "metadata": {
    "application/vnd.databricks.v1+cell": {
     "cellMetadata": {
      "byteLimit": 2048000,
      "rowLimit": 10000
     },
     "inputWidgets": {},
     "nuid": "ba228cc5-4dc7-468c-be7a-b3c75f1f836f",
     "showTitle": false,
     "tableResultSettingsMap": {},
     "title": ""
    }
   },
   "outputs": [],
   "source": [
    "  select *, rank() over(partition by region order by sales_amount) as rn\n",
    "  from sales;"
   ]
  },
  {
   "cell_type": "code",
   "execution_count": 0,
   "metadata": {
    "application/vnd.databricks.v1+cell": {
     "cellMetadata": {
      "byteLimit": 2048000,
      "rowLimit": 10000
     },
     "inputWidgets": {},
     "nuid": "6034302b-8b5d-4efb-90e8-d7f63cda8e43",
     "showTitle": false,
     "tableResultSettingsMap": {},
     "title": ""
    }
   },
   "outputs": [],
   "source": [
    "  select *, dense_rank() over(partition by region order by sales_amount) as rn\n",
    "  from sales;"
   ]
  },
  {
   "cell_type": "code",
   "execution_count": 0,
   "metadata": {
    "application/vnd.databricks.v1+cell": {
     "cellMetadata": {},
     "inputWidgets": {},
     "nuid": "018467ef-5d96-4296-a1df-d22b283b3782",
     "showTitle": false,
     "tableResultSettingsMap": {},
     "title": ""
    }
   },
   "outputs": [],
   "source": [
    "-- lag\n",
    "-- lead"
   ]
  },
  {
   "cell_type": "code",
   "execution_count": 0,
   "metadata": {
    "application/vnd.databricks.v1+cell": {
     "cellMetadata": {
      "byteLimit": 2048000,
      "rowLimit": 10000
     },
     "inputWidgets": {},
     "nuid": "8f5f3149-1004-4e2c-a308-78e9f556c60e",
     "showTitle": false,
     "tableResultSettingsMap": {},
     "title": ""
    }
   },
   "outputs": [],
   "source": [
    "truncate table sales;"
   ]
  },
  {
   "cell_type": "code",
   "execution_count": 0,
   "metadata": {
    "application/vnd.databricks.v1+cell": {
     "cellMetadata": {
      "byteLimit": 2048000,
      "rowLimit": 10000
     },
     "inputWidgets": {},
     "nuid": "74ab3b4f-0881-420c-a786-d8840cc77205",
     "showTitle": false,
     "tableResultSettingsMap": {},
     "title": ""
    }
   },
   "outputs": [],
   "source": [
    "INSERT INTO sales VALUES\n",
    "(1, 'Alice', 'North', 5000.00, '2025-01-01'),\n",
    "(1, 'Alice', 'North', 6000.00, '2025-01-03'),\n",
    "(2, 'Bob', 'South', 3000.00, '2025-01-02'),\n",
    "(2, 'Bob', 'South', 4500.00, '2025-01-05'),\n",
    "(3, 'Charlie', 'East', 7000.00, '2025-01-03'),\n",
    "(3, 'Charlie', 'East', 5000.00, '2025-01-06'),\n",
    "(4, 'David', 'West', 2000.00, '2025-01-04'),\n",
    "(4, 'David', 'West', 4000.00, '2025-01-06'),\n",
    "(5, 'Eve', 'North', 6000.00, '2025-01-05'),\n",
    "(5, 'Eve', 'North', 7000.00, '2025-01-08'),\n",
    "(6, 'Frank', 'South', 4000.00, '2025-01-06'),\n",
    "(6, 'Frank', 'South', 8000.00, '2025-01-09'),\n",
    "(7, 'Grace', 'East', 8000.00, '2025-01-07'),\n",
    "(7, 'Grace', 'East', 8500.00, '2025-01-08'),\n",
    "(8, 'Hank', 'West', 1000.00, '2025-01-08'),\n",
    "(8, 'Hank', 'West', 4000.00, '2025-01-09'),\n",
    "(9, 'Ivy', 'North', 9000.00, '2025-01-09'),\n",
    "(9, 'Ivy', 'North', 10000.00, '2025-01-10'),\n",
    "(10, 'Jack', 'South', 500.00, '2025-01-10'),\n",
    "(10, 'Jack', 'South', 10000.00, '2025-01-13');"
   ]
  },
  {
   "cell_type": "code",
   "execution_count": 0,
   "metadata": {
    "application/vnd.databricks.v1+cell": {
     "cellMetadata": {
      "byteLimit": 2048000,
      "rowLimit": 10000
     },
     "inputWidgets": {},
     "nuid": "56231a35-6437-452b-aba0-fbb7d898044b",
     "showTitle": false,
     "tableResultSettingsMap": {},
     "title": ""
    }
   },
   "outputs": [],
   "source": [
    "select * from sales;"
   ]
  },
  {
   "cell_type": "code",
   "execution_count": 0,
   "metadata": {
    "application/vnd.databricks.v1+cell": {
     "cellMetadata": {
      "byteLimit": 2048000,
      "rowLimit": 10000
     },
     "inputWidgets": {},
     "nuid": "569f8547-1303-4052-9ea5-ac0f0a3ad46c",
     "showTitle": false,
     "tableResultSettingsMap": {},
     "title": ""
    }
   },
   "outputs": [],
   "source": [
    "select\n",
    "  id,\n",
    "  salesperson,\n",
    "  region,\n",
    "  sales_amount,\n",
    "  sales_date,\n",
    "  lag(sales_amount) over(partition by id order by sales_amount) as previous_sale_amount,\n",
    "  lead(sales_amount) over(partition by id order by sales_amount) as nxt_sale_amount\n",
    "from sales;"
   ]
  }
 ],
 "metadata": {
  "application/vnd.databricks.v1+notebook": {
   "computePreferences": null,
   "dashboards": [],
   "environmentMetadata": {
    "base_environment": "",
    "environment_version": "2"
   },
   "inputWidgetPreferences": null,
   "language": "sql",
   "notebookMetadata": {
    "pythonIndentUnit": 4
   },
   "notebookName": "SQL Window Functions",
   "widgets": {}
  },
  "language_info": {
   "name": "sql"
  }
 },
 "nbformat": 4,
 "nbformat_minor": 0
}
