{
 "cells": [
  {
   "cell_type": "code",
   "execution_count": 0,
   "metadata": {
    "application/vnd.databricks.v1+cell": {
     "cellMetadata": {
      "byteLimit": 2048000,
      "rowLimit": 10000
     },
     "inputWidgets": {},
     "nuid": "ecbb09ae-0470-4b51-b387-3913c4a49a73",
     "showTitle": false,
     "tableResultSettingsMap": {},
     "title": ""
    }
   },
   "outputs": [],
   "source": [
    "from pyspark.sql import functions as F, types as T"
   ]
  },
  {
   "cell_type": "code",
   "execution_count": 0,
   "metadata": {
    "application/vnd.databricks.v1+cell": {
     "cellMetadata": {
      "byteLimit": 2048000,
      "rowLimit": 10000
     },
     "inputWidgets": {},
     "nuid": "77f76da5-a800-4ef9-9fea-3bf5ede1864c",
     "showTitle": false,
     "tableResultSettingsMap": {},
     "title": ""
    }
   },
   "outputs": [],
   "source": [
    "# udf's"
   ]
  },
  {
   "cell_type": "code",
   "execution_count": 0,
   "metadata": {
    "application/vnd.databricks.v1+cell": {
     "cellMetadata": {
      "byteLimit": 2048000,
      "rowLimit": 10000
     },
     "inputWidgets": {},
     "nuid": "ce521ef4-73f9-4904-9ce9-a3b2d3134f15",
     "showTitle": false,
     "tableResultSettingsMap": {},
     "title": ""
    }
   },
   "outputs": [],
   "source": [
    "def convertCase(name):  # -> sandeep reddy -> Sandeep Reddy\n",
    "    fullName = \"\"\n",
    "    name = name.split(\" \") # ---> [\"sandeep\", \"reddy\"] --> ['animireddigari', 'sandeep', 'reddy']\n",
    "    for word in name:\n",
    "        fullName = fullName + word[0].upper() + word[1:] + \" \"\n",
    "    return fullName.strip() # --> \"Sandeep Reddy\", \"Chandra Babu Naidu\""
   ]
  },
  {
   "cell_type": "code",
   "execution_count": 0,
   "metadata": {
    "application/vnd.databricks.v1+cell": {
     "cellMetadata": {
      "byteLimit": 2048000,
      "rowLimit": 10000
     },
     "inputWidgets": {},
     "nuid": "f39eca2e-87fa-41a5-b870-1ab418d85ef6",
     "showTitle": false,
     "tableResultSettingsMap": {},
     "title": ""
    }
   },
   "outputs": [],
   "source": [
    "# case 1:\n",
    "convertCaseUDF = F.udf(lambda z: convertCase(z), T.StringType())"
   ]
  },
  {
   "cell_type": "code",
   "execution_count": 0,
   "metadata": {
    "application/vnd.databricks.v1+cell": {
     "cellMetadata": {
      "byteLimit": 2048000,
      "rowLimit": 10000
     },
     "inputWidgets": {},
     "nuid": "2d4f1373-ad4e-4014-b154-dc3a3c7186f4",
     "showTitle": false,
     "tableResultSettingsMap": {},
     "title": ""
    }
   },
   "outputs": [],
   "source": [
    "# case 2:\n",
    "@udf(T.StringType())\n",
    "def convertCaseDecorator(name):\n",
    "    fullName = \"\"\n",
    "    name = name.split(\" \") # ---> [\"sandeep\", \"reddy\"] --> ['animireddigari', 'sandeep', 'reddy']\n",
    "    for word in name:\n",
    "        fullName = fullName + word[0].upper() + word[1:] + \" \"\n",
    "    return fullName.strip() # --> \"Sandeep Reddy\", \"Chandra Babu Naidu\""
   ]
  }
 ],
 "metadata": {
  "application/vnd.databricks.v1+notebook": {
   "computePreferences": null,
   "dashboards": [],
   "environmentMetadata": {
    "base_environment": "",
    "environment_version": "2"
   },
   "inputWidgetPreferences": null,
   "language": "python",
   "notebookMetadata": {
    "pythonIndentUnit": 4
   },
   "notebookName": "utils",
   "widgets": {}
  },
  "language_info": {
   "name": "python"
  }
 },
 "nbformat": 4,
 "nbformat_minor": 0
}
